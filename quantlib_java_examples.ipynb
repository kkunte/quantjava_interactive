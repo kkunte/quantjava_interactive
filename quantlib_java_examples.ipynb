{
 "cells": [
  {
   "cell_type": "code",
   "execution_count": 1,
   "id": "outstanding-breast",
   "metadata": {},
   "outputs": [],
   "source": [
    "%jars /home/kkunte/QuantLib-SWIG-1.33/Java/QuantLib.jars"
   ]
  },
  {
   "cell_type": "code",
   "execution_count": 2,
   "id": "leading-general",
   "metadata": {},
   "outputs": [
    {
     "ename": "CompilationException",
     "evalue": "",
     "output_type": "error",
     "traceback": [
      "\u001b[1m\u001b[30m|   \u001b[1m\u001b[30mimport \u001b[0m\u001b[1m\u001b[30m\u001b[41morg.quantlib.Date\u001b[0m\u001b[1m\u001b[30m;\u001b[0m",
      "\u001b[1m\u001b[31mpackage org.quantlib does not exist\u001b[0m",
      ""
     ]
    }
   ],
   "source": [
    "import org.quantlib.Date;"
   ]
  },
  {
   "cell_type": "code",
   "execution_count": 4,
   "id": "australian-bones",
   "metadata": {},
   "outputs": [],
   "source": [
    "List<String> addedJars = %jars /home/kkunte/QuantLib-SWIG-1.33/Java/*.jar"
   ]
  },
  {
   "cell_type": "code",
   "execution_count": 5,
   "id": "second-wheat",
   "metadata": {},
   "outputs": [
    {
     "name": "stdout",
     "output_type": "stream",
     "text": [
      "[/home/kkunte/QuantLib-SWIG-1.33/Java/QuantLib.jar]\n"
     ]
    }
   ],
   "source": [
    "System.out.println(addedJars)"
   ]
  },
  {
   "cell_type": "code",
   "execution_count": 14,
   "id": "stopped-softball",
   "metadata": {},
   "outputs": [],
   "source": [
    "import org.quantlib.*;\n",
    "Date qDate = new Date(1,Month.March,2024);"
   ]
  },
  {
   "cell_type": "code",
   "execution_count": 11,
   "id": "human-viking",
   "metadata": {},
   "outputs": [
    {
     "name": "stdout",
     "output_type": "stream",
     "text": [
      "\n",
      "Test Date functionality\n",
      "One week from now is February 24th, 2024\n"
     ]
    },
    {
     "data": {
      "text/plain": [
       "[February 17th, 2024, February 18th, 2024, February 19th, 2024, February 20th, 2024, February 21st, 2024, February 22nd, 2024, February 23rd, 2024, February 24th, 2024, February 25th, 2024, February 26th, 2024]"
      ]
     },
     "execution_count": 11,
     "metadata": {},
     "output_type": "execute_result"
    }
   ],
   "source": [
    "import org.quantlib.DateVector;\n",
    "import org.quantlib.Period;\n",
    "import org.quantlib.TimeUnit;\n",
    "DateVector testDateFunctionality()\n",
    "{\n",
    "    Date qlDate = new Date(17,Month.February,2024);\n",
    "    Period period = new Period(1, TimeUnit.Weeks);\n",
    "    Date oneWeekFromNow = qlDate.add(period);\n",
    "    System.out.println(\"\\nTest Date functionality\");\n",
    "    System.out.println(\"One week from now is \" + oneWeekFromNow.toString());\n",
    "    DateVector dout = new DateVector();\n",
    "    for( int i = 0 ; i < 10;i++)\n",
    "    {\n",
    "        Date nDate = qlDate.add(i);\n",
    "        dout.add(nDate);\n",
    "    }\n",
    "    return dout;\n",
    "}\n",
    "testDateFunctionality();"
   ]
  },
  {
   "cell_type": "code",
   "execution_count": 17,
   "id": "twenty-surfing",
   "metadata": {},
   "outputs": [
    {
     "name": "stdout",
     "output_type": "stream",
     "text": [
      "\n",
      "Test Date functionality\n",
      "One week from now is February 24th, 2024\n",
      "\n",
      "Test Calendar functionality\n",
      "February 17th, 2024  is holiday \n",
      "February 18th, 2024  is holiday \n",
      "February 19th, 2024  is holiday \n",
      "February 20th, 2024 not a holiday\n",
      "February 21st, 2024 not a holiday\n",
      "February 22nd, 2024 not a holiday\n",
      "February 23rd, 2024 not a holiday\n",
      "February 24th, 2024  is holiday \n",
      "February 25th, 2024  is holiday \n",
      "February 26th, 2024 not a holiday\n",
      "\n",
      "NOTE:  quantlib Date.add() method advances date to next day whereas calendar.advance move the date to next business day\n",
      "\n",
      "Current date February 17th, 2024 ql.Date.add(1) February 18th, 2024  calendar advance 1 February 20th, 2024\n",
      "\n",
      "List of 2024 UnitedStates.NYSE holidays\n",
      "January 1st, 2024\n",
      "January 15th, 2024\n",
      "February 19th, 2024\n",
      "March 29th, 2024\n",
      "May 27th, 2024\n",
      "June 19th, 2024\n",
      "July 4th, 2024\n",
      "September 2nd, 2024\n",
      "November 28th, 2024\n",
      "December 25th, 2024\n"
     ]
    }
   ],
   "source": [
    "import org.quantlib.Calendar;\n",
    "\n",
    "void testCalendar(DateVector din)\n",
    "{\n",
    "        System.out.println(\"\\nTest Calendar functionality\");\n",
    "        Calendar cal = new org.quantlib.UnitedStates(UnitedStates.Market.NYSE);\n",
    "        for(Date dt : din)\n",
    "        {\n",
    "            String mesg =  cal.isHoliday(dt) ?  \" is holiday \" :  \"not a holiday\";\n",
    "            System.out.println(dt.toString() + \" \" + mesg);\n",
    "        }\n",
    "\n",
    "        Date qlDate = new Date(17,Month.February,2024);\n",
    "        System.out.println(\"\\nNOTE:  quantlib Date.add() method advances date to next day whereas calendar.advance move the date to next business day\");\n",
    "        System.out.println( \"\\nCurrent date \" + qlDate.toString() + \" ql.Date.add(1) \" +  qlDate.add(1).toString() + \"  calendar advance 1 \" + cal.advance(qlDate,1,TimeUnit.Days));\n",
    "\n",
    "        System.out.println(\"\\nList of 2024 UnitedStates.NYSE holidays\");\n",
    "        for (Date d: cal.holidayList(new Date(1,Month.January,2024),new Date(31,Month.December,2024)))\n",
    "        {\n",
    "            System.out.println(d.toString());\n",
    "        }\n",
    "}\n",
    "\n",
    "testCalendar(testDateFunctionality());"
   ]
  },
  {
   "cell_type": "code",
   "execution_count": 19,
   "id": "noticed-arbor",
   "metadata": {},
   "outputs": [
    {
     "name": "stdout",
     "output_type": "stream",
     "text": [
      "\n",
      "Test Discount Factors\n",
      "Date February 17th, 2024 Discount 1.0\n",
      "Date February 18th, 2024 Discount 0.9997121711693079\n",
      "Date February 19th, 2024 Discount 0.9994244251840515\n",
      "Date February 20th, 2024 Discount 0.9991367620203856\n",
      "Date February 21st, 2024 Discount 0.9988491816544718\n",
      "Date February 22nd, 2024 Discount 0.9985616840624784\n",
      "Date February 23rd, 2024 Discount 0.9982742692205807\n",
      "Date February 24th, 2024 Discount 0.9979869371049609\n",
      "Date February 25th, 2024 Discount 0.997699687691808\n",
      "Date February 26th, 2024 Discount 0.9974125209573177\n"
     ]
    }
   ],
   "source": [
    "void testDiscountCurve()\n",
    "{\n",
    "    DateVector dvec = new DateVector();\n",
    "    DoubleVector df = new DoubleVector();\n",
    "\n",
    "    double dfactor = 1.0;\n",
    "    Date qlDate = new Date(17,Month.February,2024);\n",
    "    for (int i = 0; i < 3;i++){\n",
    "        Period period = new Period(i, TimeUnit.Years);\n",
    "        Date nexDate = qlDate.add(period);\n",
    "        dvec.add(nexDate);\n",
    "        df.add(dfactor - i*0.1);\n",
    "    }\n",
    "\n",
    "    DiscountCurve curve = new DiscountCurve(dvec,df,new Actual360());\n",
    "\n",
    "    System.out.println(\"\\nTest Discount Factors\");\n",
    "    for( int i = 0 ; i < 10;i++)\n",
    "    {\n",
    "        Date nDate = qlDate.add(i);\n",
    "        double dis = curve.discount(qlDate.add(i));\n",
    "        System.out.println(\"Date \" + nDate.toString() + \" Discount \" + dis);\n",
    "    }\n",
    "}\n",
    "testDiscountCurve();"
   ]
  },
  {
   "cell_type": "code",
   "execution_count": null,
   "id": "legislative-assault",
   "metadata": {},
   "outputs": [],
   "source": []
  }
 ],
 "metadata": {
  "kernelspec": {
   "display_name": "Java",
   "language": "java",
   "name": "java"
  },
  "language_info": {
   "codemirror_mode": "java",
   "file_extension": ".jshell",
   "mimetype": "text/x-java-source",
   "name": "Java",
   "pygments_lexer": "java",
   "version": "11.0.21+9-post-Ubuntu-0ubuntu120.04"
  }
 },
 "nbformat": 4,
 "nbformat_minor": 5
}
